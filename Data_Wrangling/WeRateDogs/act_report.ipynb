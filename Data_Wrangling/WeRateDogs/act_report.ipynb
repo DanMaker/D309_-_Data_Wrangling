{
 "cells": [
  {
   "cell_type": "markdown",
   "metadata": {},
   "source": [
    "# WeRateDogs Tweet Analysis"
   ]
  },
  {
   "cell_type": "markdown",
   "metadata": {},
   "source": [
    "## Background\n",
    "[WeRateDogs](https://twitter.com/dog_rates) is a [Twitter](https://twitter.com/home) account that takes an unconventional approach to rating photos, and videos of dogs. He uses a normal fraction system, but the numerator is almost always greater than the denominator. He also uses [nonce words](https://en.wiktionary.org/wiki/Appendix:Glossary#nonce_word) such as \"doggo\" and \"pupper\" to describe them. His has leveraged his fame to raise funds to help dogs in need through his [15/10 Foundation](https://twitter.com/15outof10). His web site is https://links.weratedogs.com/\n",
    "\n",
    "I have analyzed several thousand tweets from the start of his account and come up with a number of observations, or insights and created some visualizations to help make some of the observations clearer."
   ]
  },
  {
   "cell_type": "markdown",
   "metadata": {},
   "source": [
    "## Insight 1: Dog Names\n",
    "Of 2356 tweets 1390 give the name of the dog, and there are 929 different names. The \"most common\" names are Charlie and Lucy with 11 uses each, followed by Oliver, Cooper, Penny and Tucker with 10, 10, 9 and 9 uses respectively.\n",
    "\n",
    "The insight here is that there is a very large diversity in dog names, with no clear favorite names."
   ]
  },
  {
   "cell_type": "markdown",
   "metadata": {},
   "source": [
    "## Insight 2: Breeds and Popularity\n",
    "From those same 2356 original tweets 1666 have had the breed of the dog identified (this was done using machine learning by a course at [Udacity](https://www.udacity.com/). These 1666 identified dogs represent 113 breeds, and there are some clear leaders for breed popularity, at least in photos posted to this twitter feed. I have prepared two pie charts with this data:"
   ]
  },
  {
   "cell_type": "markdown",
   "metadata": {},
   "source": [
    "![Top Ten Dog Breeds](visualizations/Top_Ten_Dog_Breeds.png \"Top Ten Breeds\")"
   ]
  },
  {
   "cell_type": "markdown",
   "metadata": {},
   "source": [
    "Here we see only the top ten breeds represented with their percentage for the whole tweet collection. It is clear that the Golden Retriever is the most common, with 9% of the identified images. This represents 156 tweets.\n",
    "\n",
    "Over all, there is a lot of diversity in the breeds. With the top 10 breeds represent only 30% of the identified dogs."
   ]
  },
  {
   "cell_type": "markdown",
   "metadata": {},
   "source": [
    "## Insight 3: Tweet Age vs Tweet Appreciation\n",
    "For this insight I combined the `retweet_count` and `favorite_count` values into a single `tweet_love` value by adding them together. As both retweeting and favoriting are indications of appreciation.\n",
    "\n",
    "I expected that the longer a tweet was around, the more appreciation it would get, however the analysis indicates otherwise.\n",
    "\n",
    "I'll start with a chart showing tweet posting count by week (each bar represents seven days, but the scale along the x axis is in days since the start of the account):"
   ]
  },
  {
   "cell_type": "markdown",
   "metadata": {},
   "source": [
    "![Tweet Count by Week](visualizations/Tweets_per_week_fixed.png \"Tweet Count by Week\")"
   ]
  },
  {
   "cell_type": "markdown",
   "metadata": {},
   "source": [
    "This clearly shows that the account started with a large number of tweets per week, then decreased to a lower frequency. If my hypothesis were true, this next chart would show an equaly large spike at the begining of the account:"
   ]
  },
  {
   "cell_type": "markdown",
   "metadata": {},
   "source": [
    "![Tweet Love by Tweet Age](visualizations/Tweet_Love_by_Tweet_Age.png \"Tweet Love by Age\")"
   ]
  },
  {
   "cell_type": "markdown",
   "metadata": {},
   "source": [
    "We don't see this at all, in fact the trend line shows something of the opposite. More recent tweets tend to have higher appreciation.\n",
    "\n",
    "I suspect this is due to his subscriber count having increased, and Twitter being a very \"in the moment\" platform, where users don't tend to scroll back throu past tweets, but instead to scroll through recent tweets. So older tweets are mostly seen in their first few days and rarely after that."
   ]
  },
  {
   "cell_type": "markdown",
   "metadata": {},
   "source": [
    "## Bonus Insight: Going Viral\n",
    "It is interesting to look at the top ten tweets, those that went viral.\n",
    "\n",
    "Five of the top ten tweets, half of them, contain a video. Three have two or more images and only two contain a single image.\n",
    "\n",
    "If a picture is worth a thousand words, two or more are worth even more, and a video, even a short one seems to be worth a million words."
   ]
  },
  {
   "cell_type": "markdown",
   "metadata": {},
   "source": [
    "### Here are links to the top ten, enjoy:\n",
    "1. https://t.co/7wE9LTEXC4\n",
    "1. https://t.co/nTz3FtorBc\n",
    "1. https://t.co/DkBYaCAg2d\n",
    "1. https://t.co/UDT7ZkcTgY\n",
    "1. https://t.co/wk7TfysWHr\n",
    "1. https://t.co/AdPKrI8BZ1\n",
    "1. https://t.co/YcXgHfp1EC\n",
    "1. https://t.co/f1h2Fsalv9\n",
    "1. https://t.co/T1xlgaPujm\n",
    "1. https://t.co/g2nSyGenG9"
   ]
  }
 ],
 "metadata": {
  "kernelspec": {
   "display_name": "Python 3 (ipykernel)",
   "language": "python",
   "name": "python3"
  },
  "language_info": {
   "codemirror_mode": {
    "name": "ipython",
    "version": 3
   },
   "file_extension": ".py",
   "mimetype": "text/x-python",
   "name": "python",
   "nbconvert_exporter": "python",
   "pygments_lexer": "ipython3",
   "version": "3.9.16"
  }
 },
 "nbformat": 4,
 "nbformat_minor": 2
}
